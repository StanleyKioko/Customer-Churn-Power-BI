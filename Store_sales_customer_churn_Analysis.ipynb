{
  "nbformat": 4,
  "nbformat_minor": 0,
  "metadata": {
    "colab": {
      "provenance": []
    },
    "kernelspec": {
      "name": "python3",
      "display_name": "Python 3"
    },
    "language_info": {
      "name": "python"
    }
  },
  "cells": [
    {
      "cell_type": "markdown",
      "source": [
        "*iImporting The data analysis Library*"
      ],
      "metadata": {
        "id": "G0iiIB4xXRAX"
      }
    },
    {
      "cell_type": "code",
      "execution_count": 1,
      "metadata": {
        "id": "dtnJR9iqTPke"
      },
      "outputs": [],
      "source": [
        "import pandas as pd"
      ]
    },
    {
      "cell_type": "markdown",
      "source": [
        "**Let me load the Data sets that i have collected from the various sources. I have already extracted it. right now I will transform and load to my visualization tool**"
      ],
      "metadata": {
        "id": "Xdx2v32vXZ8b"
      }
    },
    {
      "cell_type": "code",
      "source": [
        "Sales = pd.read_csv(\"/content/drive/MyDrive/sales.csv\")"
      ],
      "metadata": {
        "id": "FBenDTQ1TWnu"
      },
      "execution_count": 2,
      "outputs": []
    },
    {
      "cell_type": "code",
      "source": [
        "Sales.columns"
      ],
      "metadata": {
        "colab": {
          "base_uri": "https://localhost:8080/"
        },
        "id": "OKMlEiflUAMY",
        "outputId": "017ba617-c05e-4c4c-8c43-c4a27f0b5e88"
      },
      "execution_count": 6,
      "outputs": [
        {
          "output_type": "execute_result",
          "data": {
            "text/plain": [
              "Index(['Area Code', 'State', 'Market', 'Market Size', 'Profit', 'Margin',\n",
              "       'Sales', 'COGS', 'Total Expenses', 'Marketing', 'Inventory',\n",
              "       'Budget Profit', 'Budget COGS', 'Budget Margin', 'Budget Sales',\n",
              "       'ProductId', 'Date', 'Product Type', 'Product', 'Type'],\n",
              "      dtype='object')"
            ]
          },
          "metadata": {},
          "execution_count": 6
        }
      ]
    },
    {
      "cell_type": "code",
      "source": [
        "\n",
        "Sales.shape"
      ],
      "metadata": {
        "colab": {
          "base_uri": "https://localhost:8080/"
        },
        "id": "UBkss-P3UAI4",
        "outputId": "4948b1b3-c40f-4999-adc5-f0d8ffbb403d"
      },
      "execution_count": 7,
      "outputs": [
        {
          "output_type": "execute_result",
          "data": {
            "text/plain": [
              "(4248, 20)"
            ]
          },
          "metadata": {},
          "execution_count": 7
        }
      ]
    },
    {
      "cell_type": "code",
      "source": [
        "Sales.isna().sum()"
      ],
      "metadata": {
        "colab": {
          "base_uri": "https://localhost:8080/"
        },
        "id": "6wrWDTFlVMFM",
        "outputId": "ec1b5e0f-77a7-49ca-d127-727398cefdad"
      },
      "execution_count": 11,
      "outputs": [
        {
          "output_type": "execute_result",
          "data": {
            "text/plain": [
              "Area Code         0\n",
              "State             0\n",
              "Market            0\n",
              "Market Size       0\n",
              "Profit            0\n",
              "Margin            0\n",
              "Sales             0\n",
              "COGS              0\n",
              "Total Expenses    0\n",
              "Marketing         0\n",
              "Inventory         0\n",
              "Budget Profit     0\n",
              "Budget COGS       0\n",
              "Budget Margin     0\n",
              "Budget Sales      0\n",
              "ProductId         0\n",
              "Date              0\n",
              "Product Type      0\n",
              "Product           0\n",
              "Type              0\n",
              "dtype: int64"
            ]
          },
          "metadata": {},
          "execution_count": 11
        }
      ]
    },
    {
      "cell_type": "code",
      "source": [
        "Sales.duplicated().sum()"
      ],
      "metadata": {
        "colab": {
          "base_uri": "https://localhost:8080/"
        },
        "id": "7aEPpQFPVMIi",
        "outputId": "4584c981-5135-4f3f-9f42-504028d0b648"
      },
      "execution_count": 12,
      "outputs": [
        {
          "output_type": "execute_result",
          "data": {
            "text/plain": [
              "0"
            ]
          },
          "metadata": {},
          "execution_count": 12
        }
      ]
    },
    {
      "cell_type": "code",
      "source": [
        "Online_retail_customer_churn = pd.read_csv(\"/content/drive/MyDrive/online_retail_customer_churn.csv\")"
      ],
      "metadata": {
        "id": "AkullZ9FUAGH"
      },
      "execution_count": 8,
      "outputs": []
    },
    {
      "cell_type": "code",
      "source": [
        "Online_retail_customer_churn.columns"
      ],
      "metadata": {
        "colab": {
          "base_uri": "https://localhost:8080/"
        },
        "id": "gmAQcp9fU9X_",
        "outputId": "07d5929e-001f-44a7-cb69-cc5021682a41"
      },
      "execution_count": 9,
      "outputs": [
        {
          "output_type": "execute_result",
          "data": {
            "text/plain": [
              "Index(['Customer_ID', 'Age', 'Gender', 'Annual_Income', 'Total_Spend',\n",
              "       'Years_as_Customer', 'Num_of_Purchases', 'Average_Transaction_Amount',\n",
              "       'Num_of_Returns', 'Num_of_Support_Contacts', 'Satisfaction_Score',\n",
              "       'Last_Purchase_Days_Ago', 'Email_Opt_In', 'Promotion_Response',\n",
              "       'Target_Churn'],\n",
              "      dtype='object')"
            ]
          },
          "metadata": {},
          "execution_count": 9
        }
      ]
    },
    {
      "cell_type": "code",
      "source": [
        "Online_retail_customer_churn.shape"
      ],
      "metadata": {
        "colab": {
          "base_uri": "https://localhost:8080/"
        },
        "id": "l8eavZGgVHvM",
        "outputId": "0153b71f-3a80-4ff6-9a35-31134cc13391"
      },
      "execution_count": 10,
      "outputs": [
        {
          "output_type": "execute_result",
          "data": {
            "text/plain": [
              "(1000, 15)"
            ]
          },
          "metadata": {},
          "execution_count": 10
        }
      ]
    },
    {
      "cell_type": "code",
      "source": [
        "Online_retail_customer_churn.isna().sum()"
      ],
      "metadata": {
        "colab": {
          "base_uri": "https://localhost:8080/"
        },
        "id": "OrxipUGRVI0v",
        "outputId": "bfc90043-5daf-4bd8-a917-95eb2de85c02"
      },
      "execution_count": 13,
      "outputs": [
        {
          "output_type": "execute_result",
          "data": {
            "text/plain": [
              "Customer_ID                   0\n",
              "Age                           0\n",
              "Gender                        0\n",
              "Annual_Income                 0\n",
              "Total_Spend                   0\n",
              "Years_as_Customer             0\n",
              "Num_of_Purchases              0\n",
              "Average_Transaction_Amount    0\n",
              "Num_of_Returns                0\n",
              "Num_of_Support_Contacts       0\n",
              "Satisfaction_Score            0\n",
              "Last_Purchase_Days_Ago        0\n",
              "Email_Opt_In                  0\n",
              "Promotion_Response            0\n",
              "Target_Churn                  0\n",
              "dtype: int64"
            ]
          },
          "metadata": {},
          "execution_count": 13
        }
      ]
    },
    {
      "cell_type": "code",
      "source": [
        "Online_retail_customer_churn.duplicated().sum()"
      ],
      "metadata": {
        "colab": {
          "base_uri": "https://localhost:8080/"
        },
        "id": "MVbEF1VsVb11",
        "outputId": "d1e467bc-a5c5-4273-d4aa-097edc4ea5d0"
      },
      "execution_count": 14,
      "outputs": [
        {
          "output_type": "execute_result",
          "data": {
            "text/plain": [
              "0"
            ]
          },
          "metadata": {},
          "execution_count": 14
        }
      ]
    },
    {
      "cell_type": "markdown",
      "source": [
        "**Data Transformation**"
      ],
      "metadata": {
        "id": "5NqPOaLLX7hE"
      }
    },
    {
      "cell_type": "code",
      "source": [
        "# Merge the datasets using the index as the key\n",
        "clean_data = pd.merge(Sales, Online_retail_customer_churn, left_index=True, right_index=True)\n",
        "\n",
        "# Display the merged dataset\n",
        "print(clean_data)"
      ],
      "metadata": {
        "colab": {
          "base_uri": "https://localhost:8080/"
        },
        "id": "0yBRKjIKWmUX",
        "outputId": "6e765979-4917-46c8-f898-4c7e746d7ead"
      },
      "execution_count": 18,
      "outputs": [
        {
          "output_type": "stream",
          "name": "stdout",
          "text": [
            "     Area Code          State   Market   Market Size  Profit  Margin  Sales  \\\n",
            "0          203    Connecticut     East  Small Market   107.0   176.0  292.0   \n",
            "1          203    Connecticut     East  Small Market    75.0   135.0  225.0   \n",
            "2          203    Connecticut     East  Small Market   122.0   195.0  325.0   \n",
            "3          203    Connecticut     East  Small Market   105.0   174.0  289.0   \n",
            "4          203    Connecticut     East  Small Market   104.0   135.0  223.0   \n",
            "..         ...            ...      ...           ...     ...     ...    ...   \n",
            "995        413  Massachusetts     East  Major Market   115.0   149.0  295.0   \n",
            "996        414      Wisconsin  Central  Small Market    23.0    82.0  149.0   \n",
            "997        414      Wisconsin  Central  Small Market    23.0    72.0  129.0   \n",
            "998        414      Wisconsin  Central  Small Market    29.0    77.0  139.0   \n",
            "999        414      Wisconsin  Central  Small Market    22.0    70.0  134.0   \n",
            "\n",
            "      COGS  Total Expenses  Marketing  ...  Years_as_Customer  \\\n",
            "0    116.0            69.0       38.0  ...                  5   \n",
            "1     90.0            60.0       29.0  ...                 13   \n",
            "2    130.0            73.0       42.0  ...                 13   \n",
            "3    115.0            69.0       37.0  ...                  3   \n",
            "4     90.0            56.0       29.0  ...                 15   \n",
            "..     ...             ...        ...  ...                ...   \n",
            "995  149.0            61.0       41.0  ...                  2   \n",
            "996   67.0            59.0       25.0  ...                  9   \n",
            "997   58.0            51.0       22.0  ...                 17   \n",
            "998   63.0            52.0       23.0  ...                  7   \n",
            "999   56.0            55.0       21.0  ...                 15   \n",
            "\n",
            "     Num_of_Purchases  Average_Transaction_Amount  Num_of_Returns  \\\n",
            "0                  22                      453.80               2   \n",
            "1                  77                       22.90               2   \n",
            "2                  71                       50.53               5   \n",
            "3                  33                      411.83               5   \n",
            "4                  43                      101.19               3   \n",
            "..                ...                         ...             ...   \n",
            "995                29                       77.75               0   \n",
            "996                90                       34.45               6   \n",
            "997                69                      187.37               7   \n",
            "998                31                      483.80               1   \n",
            "999                48                      420.91               6   \n",
            "\n",
            "     Num_of_Support_Contacts  Satisfaction_Score Last_Purchase_Days_Ago  \\\n",
            "0                          0                   3                    129   \n",
            "1                          2                   3                    227   \n",
            "2                          2                   2                    283   \n",
            "3                          3                   5                    226   \n",
            "4                          0                   5                    242   \n",
            "..                       ...                 ...                    ...   \n",
            "995                        3                   2                     88   \n",
            "996                        4                   4                    352   \n",
            "997                        3                   1                    172   \n",
            "998                        2                   5                     55   \n",
            "999                        0                   1                    269   \n",
            "\n",
            "    Email_Opt_In Promotion_Response Target_Churn  \n",
            "0           True          Responded         True  \n",
            "1          False          Responded        False  \n",
            "2          False          Responded         True  \n",
            "3           True            Ignored         True  \n",
            "4          False       Unsubscribed        False  \n",
            "..           ...                ...          ...  \n",
            "995         True            Ignored        False  \n",
            "996        False          Responded         True  \n",
            "997         True       Unsubscribed        False  \n",
            "998        False          Responded         True  \n",
            "999         True            Ignored         True  \n",
            "\n",
            "[1000 rows x 35 columns]\n"
          ]
        }
      ]
    },
    {
      "cell_type": "code",
      "source": [
        "clean_data.isna().sum()"
      ],
      "metadata": {
        "colab": {
          "base_uri": "https://localhost:8080/"
        },
        "id": "Wyf6gVkRWmhP",
        "outputId": "d5c8d122-b358-4552-bec5-947aa46008e5"
      },
      "execution_count": 19,
      "outputs": [
        {
          "output_type": "execute_result",
          "data": {
            "text/plain": [
              "Area Code                     0\n",
              "State                         0\n",
              "Market                        0\n",
              "Market Size                   0\n",
              "Profit                        0\n",
              "Margin                        0\n",
              "Sales                         0\n",
              "COGS                          0\n",
              "Total Expenses                0\n",
              "Marketing                     0\n",
              "Inventory                     0\n",
              "Budget Profit                 0\n",
              "Budget COGS                   0\n",
              "Budget Margin                 0\n",
              "Budget Sales                  0\n",
              "ProductId                     0\n",
              "Date                          0\n",
              "Product Type                  0\n",
              "Product                       0\n",
              "Type                          0\n",
              "Customer_ID                   0\n",
              "Age                           0\n",
              "Gender                        0\n",
              "Annual_Income                 0\n",
              "Total_Spend                   0\n",
              "Years_as_Customer             0\n",
              "Num_of_Purchases              0\n",
              "Average_Transaction_Amount    0\n",
              "Num_of_Returns                0\n",
              "Num_of_Support_Contacts       0\n",
              "Satisfaction_Score            0\n",
              "Last_Purchase_Days_Ago        0\n",
              "Email_Opt_In                  0\n",
              "Promotion_Response            0\n",
              "Target_Churn                  0\n",
              "dtype: int64"
            ]
          },
          "metadata": {},
          "execution_count": 19
        }
      ]
    },
    {
      "cell_type": "code",
      "source": [
        "clean_data.duplicated().sum()"
      ],
      "metadata": {
        "colab": {
          "base_uri": "https://localhost:8080/"
        },
        "id": "M35T4-J3W9uE",
        "outputId": "b0ad60da-73c7-45c4-b6c7-1a7d7c278937"
      },
      "execution_count": 20,
      "outputs": [
        {
          "output_type": "execute_result",
          "data": {
            "text/plain": [
              "0"
            ]
          },
          "metadata": {},
          "execution_count": 20
        }
      ]
    },
    {
      "cell_type": "code",
      "source": [
        "clean_data.shape"
      ],
      "metadata": {
        "colab": {
          "base_uri": "https://localhost:8080/"
        },
        "id": "hBY1C1SPXCQk",
        "outputId": "e5cfd770-b820-4b49-b108-19abe68c9934"
      },
      "execution_count": 21,
      "outputs": [
        {
          "output_type": "execute_result",
          "data": {
            "text/plain": [
              "(1000, 35)"
            ]
          },
          "metadata": {},
          "execution_count": 21
        }
      ]
    },
    {
      "cell_type": "markdown",
      "source": [
        "# Done with transforming the data as it is not as dirty or noisy. I will move on to download it and load it to my visyalization tool\n"
      ],
      "metadata": {
        "id": "q4K4IsmXYSF1"
      }
    },
    {
      "cell_type": "code",
      "source": [
        "from google.colab import files"
      ],
      "metadata": {
        "id": "ZlbKIrfOXEml"
      },
      "execution_count": 22,
      "outputs": []
    },
    {
      "cell_type": "code",
      "source": [
        "# Save the cleaned and merged DataFrame to a CSV file\n",
        "clean_data.to_csv('clean_data.csv', index=False)"
      ],
      "metadata": {
        "id": "V8zGlg9XYnER"
      },
      "execution_count": 24,
      "outputs": []
    },
    {
      "cell_type": "code",
      "source": [
        "# Download the CSV file\n",
        "files.download('clean_data.csv')"
      ],
      "metadata": {
        "colab": {
          "base_uri": "https://localhost:8080/",
          "height": 17
        },
        "id": "a_Ls9kFeYecB",
        "outputId": "78d70991-a9d3-43dc-c8cd-17d51756b37f"
      },
      "execution_count": 25,
      "outputs": [
        {
          "output_type": "display_data",
          "data": {
            "text/plain": [
              "<IPython.core.display.Javascript object>"
            ],
            "application/javascript": [
              "\n",
              "    async function download(id, filename, size) {\n",
              "      if (!google.colab.kernel.accessAllowed) {\n",
              "        return;\n",
              "      }\n",
              "      const div = document.createElement('div');\n",
              "      const label = document.createElement('label');\n",
              "      label.textContent = `Downloading \"${filename}\": `;\n",
              "      div.appendChild(label);\n",
              "      const progress = document.createElement('progress');\n",
              "      progress.max = size;\n",
              "      div.appendChild(progress);\n",
              "      document.body.appendChild(div);\n",
              "\n",
              "      const buffers = [];\n",
              "      let downloaded = 0;\n",
              "\n",
              "      const channel = await google.colab.kernel.comms.open(id);\n",
              "      // Send a message to notify the kernel that we're ready.\n",
              "      channel.send({})\n",
              "\n",
              "      for await (const message of channel.messages) {\n",
              "        // Send a message to notify the kernel that we're ready.\n",
              "        channel.send({})\n",
              "        if (message.buffers) {\n",
              "          for (const buffer of message.buffers) {\n",
              "            buffers.push(buffer);\n",
              "            downloaded += buffer.byteLength;\n",
              "            progress.value = downloaded;\n",
              "          }\n",
              "        }\n",
              "      }\n",
              "      const blob = new Blob(buffers, {type: 'application/binary'});\n",
              "      const a = document.createElement('a');\n",
              "      a.href = window.URL.createObjectURL(blob);\n",
              "      a.download = filename;\n",
              "      div.appendChild(a);\n",
              "      a.click();\n",
              "      div.remove();\n",
              "    }\n",
              "  "
            ]
          },
          "metadata": {}
        },
        {
          "output_type": "display_data",
          "data": {
            "text/plain": [
              "<IPython.core.display.Javascript object>"
            ],
            "application/javascript": [
              "download(\"download_e93f4ca5-2453-435c-b45a-a711140ff818\", \"clean_data.csv\", 209517)"
            ]
          },
          "metadata": {}
        }
      ]
    }
  ]
}